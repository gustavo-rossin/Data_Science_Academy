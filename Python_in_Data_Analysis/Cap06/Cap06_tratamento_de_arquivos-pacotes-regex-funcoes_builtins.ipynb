{
 "cells": [
  {
   "cell_type": "code",
   "execution_count": 4,
   "id": "83eda4f7",
   "metadata": {},
   "outputs": [
    {
     "name": "stdout",
     "output_type": "stream",
     "text": [
      "A Data Science Academy fornece cursos de alta qualidade e que transmitem muito conhecimento.\n",
      "92\n"
     ]
    }
   ],
   "source": [
    "arquivo1 = open('arquivos/arquivo1.txt', 'r')\n",
    "\n",
    "print(arquivo1.read())\n",
    "print(arquivo1.tell()) #conta numero de caracteres do arquivo"
   ]
  },
  {
   "cell_type": "code",
   "execution_count": 24,
   "id": "70964138",
   "metadata": {},
   "outputs": [
    {
     "name": "stdout",
     "output_type": "stream",
     "text": [
      "18\n"
     ]
    }
   ],
   "source": [
    "arquivo2 = open('arquivos/arquivo2.txt', 'w')\n",
    "\n",
    "print(arquivo2.write('E ai qual vai ser?'))\n",
    "\n",
    "arquivo2.close() #tem q fechar o arquivo"
   ]
  },
  {
   "cell_type": "code",
   "execution_count": 25,
   "id": "4f24ebbc",
   "metadata": {},
   "outputs": [
    {
     "name": "stdout",
     "output_type": "stream",
     "text": [
      "E ai qual vai ser?\n"
     ]
    }
   ],
   "source": [
    "arq2 = open('arquivos/arquivo2.txt', 'r')\n",
    "print(arq2.read())"
   ]
  },
  {
   "cell_type": "code",
   "execution_count": 26,
   "id": "c2794645",
   "metadata": {},
   "outputs": [
    {
     "name": "stdout",
     "output_type": "stream",
     "text": [
      "E ai qual vai ser? Ou eu ou a cachaça? \n"
     ]
    }
   ],
   "source": [
    "arq2 = open('arquivos/arquivo2.txt', 'a')\n",
    "\n",
    "arq2.write(' Ou eu ou a cachaça? ')\n",
    "\n",
    "arq2.close()\n",
    "\n",
    "arq2 = open('arquivos/arquivo2.txt', 'r')\n",
    "print(arq2.read())\n",
    "\n",
    "arq2.close()"
   ]
  },
  {
   "cell_type": "code",
   "execution_count": 31,
   "id": "bc57a098",
   "metadata": {},
   "outputs": [],
   "source": [
    "filepath = open('arquivos/salarios.csv', 'r')\n",
    "\n",
    "data = filepath.read()\n",
    "\n",
    "rows = data.split('\\n')\n"
   ]
  },
  {
   "cell_type": "code",
   "execution_count": 36,
   "id": "baa670e8",
   "metadata": {},
   "outputs": [
    {
     "data": {
      "text/plain": [
       "POLICE OFFICER                            9489\n",
       "FIREFIGHTER-EMT                           1191\n",
       "SERGEANT                                  1138\n",
       "FIREFIGHTER                                970\n",
       "POLICE OFFICER (ASSIGNED AS DETECTIVE)     808\n",
       "                                          ... \n",
       "FOREMAN OF WINDOW WASHERS                    1\n",
       "SUPVSR OF INFORMATION SERVICES               1\n",
       "MANAGER OF TAX POLICY                        1\n",
       "FOREMAN OF ARCHITECTURAL IRON WORKERS        1\n",
       "MECHANICAL ENGINEER IV                       1\n",
       "Name: Position Title, Length: 1094, dtype: int64"
      ]
     },
     "execution_count": 36,
     "metadata": {},
     "output_type": "execute_result"
    }
   ],
   "source": [
    "import pandas as pd\n",
    "\n",
    "filepath = 'arquivos/salarios.csv'\n",
    "\n",
    "df = pd.read_csv(filepath)\n",
    "\n",
    "df.head()\n",
    "\n",
    "df['Position Title'].value_counts()"
   ]
  },
  {
   "cell_type": "code",
   "execution_count": 43,
   "id": "6f82a652",
   "metadata": {},
   "outputs": [
    {
     "data": {
      "text/plain": [
       "{'userId': 1,\n",
       " 'id': 1,\n",
       " 'title': 'sunt aut facere repellat provident occaecati excepturi optio reprehenderit',\n",
       " 'body': 'quia et suscipit\\nsuscipit recusandae consequuntur expedita et cum\\nreprehenderit molestiae ut ut quas totam\\nnostrum rerum est autem sunt rem eveniet architecto'}"
      ]
     },
     "execution_count": 43,
     "metadata": {},
     "output_type": "execute_result"
    }
   ],
   "source": [
    "from urllib.request import urlopen\n",
    "import json\n",
    "\n",
    "response = urlopen('https://jsonplaceholder.typicode.com/posts').read().decode('utf8')\n",
    "\n",
    "dados = json.loads(response)[0]\n",
    "\n",
    "dados"
   ]
  },
  {
   "cell_type": "code",
   "execution_count": 45,
   "id": "a6c27f2c",
   "metadata": {},
   "outputs": [
    {
     "name": "stdout",
     "output_type": "stream",
     "text": [
      "sunt aut facere repellat provident occaecati excepturi optio reprehenderit\n"
     ]
    }
   ],
   "source": [
    "print(dados['title'])"
   ]
  },
  {
   "cell_type": "markdown",
   "id": "a4df7393",
   "metadata": {},
   "source": [
    "#### função MAP"
   ]
  },
  {
   "cell_type": "code",
   "execution_count": 11,
   "id": "3cd93ed1",
   "metadata": {},
   "outputs": [
    {
     "name": "stdout",
     "output_type": "stream",
     "text": [
      "[16, 10000, 9261, 8649, 5832]\n"
     ]
    }
   ],
   "source": [
    "lista1 = [2, 100, 21, 93, 18]\n",
    "lista2 = [4, 2, 3, 2, 3]\n",
    "\n",
    "funcao_map = map(lambda x,y: x**y, lista1, lista2)\n",
    "print(list(funcao_map))"
   ]
  },
  {
   "cell_type": "markdown",
   "id": "37203fd9",
   "metadata": {},
   "source": [
    "#### REDUCE"
   ]
  },
  {
   "cell_type": "code",
   "execution_count": 17,
   "id": "9c0a7659",
   "metadata": {},
   "outputs": [
    {
     "name": "stdout",
     "output_type": "stream",
     "text": [
      "14\n",
      "100\n"
     ]
    }
   ],
   "source": [
    "from functools import reduce\n",
    "\n",
    "funcao_reduce = reduce(lambda x,y: x + y, lista2)\n",
    "print(funcao_reduce)\n",
    "\n",
    "max_reduce = reduce(lambda x,y: x if x > y else y, lista1)\n",
    "print(max_reduce)"
   ]
  },
  {
   "cell_type": "markdown",
   "id": "c3fa0d21",
   "metadata": {},
   "source": [
    "#### FILTER"
   ]
  },
  {
   "cell_type": "code",
   "execution_count": 21,
   "id": "e58c3ba8",
   "metadata": {},
   "outputs": [
    {
     "name": "stdout",
     "output_type": "stream",
     "text": [
      "[2, 100, 18]\n",
      "[100, 21, 93, 18]\n"
     ]
    }
   ],
   "source": [
    "funcao_filter = filter(lambda x: x % 2 == 0, lista1)\n",
    "\n",
    "print(list(funcao_filter))\n",
    "\n",
    "outra_funcao_com_filter = list(filter(lambda x: x > 17, lista1))\n",
    "\n",
    "print(outra_funcao_com_filter)"
   ]
  },
  {
   "cell_type": "markdown",
   "id": "171e20d1",
   "metadata": {},
   "source": [
    "#### ZIP"
   ]
  },
  {
   "cell_type": "code",
   "execution_count": 24,
   "id": "65d0f8cc",
   "metadata": {},
   "outputs": [
    {
     "data": {
      "text/plain": [
       "[(1, 10), (2, 20), (3, 30), (4, 40)]"
      ]
     },
     "execution_count": 24,
     "metadata": {},
     "output_type": "execute_result"
    }
   ],
   "source": [
    "list(zip(lista1, lista2))\n",
    "\n",
    "lista3 = [1, 2, 3, 4]\n",
    "lista4 = [10, 20, 30, 40, 50]\n",
    "\n",
    "list(zip(lista3, lista4))"
   ]
  },
  {
   "cell_type": "markdown",
   "id": "589c4422",
   "metadata": {},
   "source": [
    "#### ENUMERATE"
   ]
  },
  {
   "cell_type": "code",
   "execution_count": 25,
   "id": "d72a3bad",
   "metadata": {
    "scrolled": true
   },
   "outputs": [
    {
     "data": {
      "text/plain": [
       "[(0, 10), (1, 20), (2, 30), (3, 40), (4, 50)]"
      ]
     },
     "execution_count": 25,
     "metadata": {},
     "output_type": "execute_result"
    }
   ],
   "source": [
    "list(enumerate(lista4))"
   ]
  },
  {
   "cell_type": "markdown",
   "id": "dfde81c6",
   "metadata": {},
   "source": [
    "#### tratamento de erros"
   ]
  },
  {
   "cell_type": "code",
   "execution_count": 25,
   "id": "01878a03",
   "metadata": {},
   "outputs": [],
   "source": [
    "def divisao():\n",
    "    while True:\n",
    "        try:\n",
    "            num1 = int(input('digite um número inteiro: '))\n",
    "            num2 = int(input('digite outro número inteiro: '))\n",
    "            print('o resultado da divisão é: ', num1 / num2)\n",
    "        except ZeroDivisionError:\n",
    "            print('Digite um número válido')\n",
    "            continue\n",
    "        else:\n",
    "            break\n",
    "        finally:\n",
    "            print('Sempre mostra o finally')"
   ]
  },
  {
   "cell_type": "code",
   "execution_count": 26,
   "id": "2b61e13f",
   "metadata": {},
   "outputs": [
    {
     "name": "stdout",
     "output_type": "stream",
     "text": [
      "digite um número inteiro: 10\n",
      "digite outro número inteiro: 0\n",
      "Digite um número válido\n",
      "Sempre mostra o finally\n",
      "digite um número inteiro: 10\n",
      "digite outro número inteiro: 1\n",
      "o resultado da divisão é:  10.0\n",
      "Sempre mostra o finally\n"
     ]
    }
   ],
   "source": [
    "divisao()"
   ]
  },
  {
   "cell_type": "code",
   "execution_count": 20,
   "id": "b048d029",
   "metadata": {},
   "outputs": [],
   "source": [
    "def div():\n",
    "    try:\n",
    "        num1 = int(input('digite um número inteiro: '))\n",
    "        num2 = int(input('digite outro número inteiro: '))\n",
    "        print('o resultado da divisão é: ', num1 / num2)\n",
    "    except ZeroDivisionError:\n",
    "        print('não da')\n",
    "    "
   ]
  },
  {
   "cell_type": "code",
   "execution_count": 22,
   "id": "2bd7597a",
   "metadata": {},
   "outputs": [
    {
     "name": "stdout",
     "output_type": "stream",
     "text": [
      "digite um número inteiro: 10\n",
      "digite outro número inteiro: 2\n",
      "o resultado da divisão é:  5.0\n"
     ]
    }
   ],
   "source": [
    "div()"
   ]
  },
  {
   "cell_type": "code",
   "execution_count": 28,
   "id": "fe660d45",
   "metadata": {},
   "outputs": [],
   "source": [
    "import re\n",
    "amarelo = '''\n",
    "AmarElo (part. Majur e Pabllo Vittar)\n",
    "Emicida\n",
    "\n",
    "[Belchior]\n",
    "Presentemente eu posso me considerar um sujeito de sorte\n",
    "Porque apesar de muito moço, me sinto são e salvo e forte\n",
    "E tenho comigo pensado: Deus é brasileiro e anda do meu lado\n",
    "E assim já não posso sofrer no ano passado\n",
    "\n",
    "Tenho sangrado demais\n",
    "Tenho chorado pra cachorro\n",
    "Ano passado eu morri\n",
    "Mas esse ano eu não morro\n",
    "Tenho sangrado demais\n",
    "Tenho chorado pra cachorro\n",
    "Ano passado eu morri\n",
    "Mas esse ano eu não morro\n",
    "Ano passado eu morri\n",
    "Mas esse ano eu não morro\n",
    "Ano passado eu morri\n",
    "Mas esse ano eu não morro\n",
    "\n",
    "[Emicida]\n",
    "Eu sonho mais alto que drones\n",
    "Combustível do meu tipo? A fome\n",
    "Pra arregaçar como um ciclone (entendeu?)\n",
    "Pra que amanhã não seja só um ontem com um novo nome\n",
    "O abutre ronda, ansioso pela queda (sem sorte)\n",
    "Findo mágoa, mano, sou mais que essa merda (bem mais)\n",
    "Corpo, mente, alma, um, tipo Ayurveda\n",
    "Estilo água, eu corro no meio das pedra\n",
    "Na trama tudo, os drama turvo, eu sou um dramaturgo\n",
    "Conclama a se afastar da lama enquanto inflama o mundo\n",
    "Sem melodrama, busco grana, isso é hosana em curso\n",
    "Capulanas, catanas, buscar nirvana é o recurso\n",
    "É um mundo cão pra nóis, perder não é opção, certo?\n",
    "De onde o vento faz a curva, brota o papo reto\n",
    "Num deixo quieto, não tem como deixar quieto\n",
    "A meta é deixar sem chão quem riu de nóis sem teto (vai!)\n",
    "\n",
    "[Majur, Emicida e Belchior]\n",
    "Tenho sangrado demais\n",
    "Tenho chorado pra cachorro (eu preciso cuidar de mim)\n",
    "Ano passado eu morri\n",
    "Mas esse ano eu não morro (esse ano eu não morro)\n",
    "Tenho sangrado demais (demais)\n",
    "Tenho chorado pra cachorro\n",
    "Ano passado eu morri\n",
    "Mas esse ano eu não morro (Belchior tinha razão)\n",
    "Ano passado eu morri\n",
    "Mas esse ano eu não morro\n",
    "\n",
    "[Emicida]\n",
    "Figurinha premiada, brilho no escuro\n",
    "Desde a quebrada avulso\n",
    "De gorro, alto do morro e os camarada tudo\n",
    "De peça no forro e os piores impulsos\n",
    "Só eu e Deus sabe o que é não ter nada, ser expulso\n",
    "Ponho linhas no mundo, mas já quis pôr no pulso\n",
    "Sem o torro, nossa vida não vale a de um cachorro, triste\n",
    "Hoje Cedo não era um hit, era um pedido de socorro\n",
    "Mano, rancor é igual tumor, envenena a raiz\n",
    "Onde a plateia só deseja ser feliz (ser feliz)\n",
    "Com uma presença aérea\n",
    "Onde a última tendência é depressão com aparência de férias\n",
    "(Vovó diz) odiar o diabo é mó boi (mó boi)\n",
    "Difícil é viver no inferno (e vem à tona)\n",
    "Que o mesmo império canalha que não te leva a sério\n",
    "Interfere pra te levar à lona, revide!\n",
    "\n",
    "[Majur, Emicida e Belchior]\n",
    "Tenho sangrado demais\n",
    "Tenho chorado pra cachorro\n",
    "Ano passado eu morri\n",
    "Mas esse ano eu não morro\n",
    "Tenho sangrado demais (demais)\n",
    "Tenho chorado pra cachorro (preciso cuidar de mim)\n",
    "Ano passado eu morri\n",
    "Mas esse ano eu não morro\n",
    "Ano passado eu morri\n",
    "Mas esse ano eu não morro\n",
    "\n",
    "[Pabllo, Majur e Emicida]\n",
    "Permita que eu fale, não as minhas cicatrizes\n",
    "Elas são coadjuvantes, não, melhor, figurantes\n",
    "Que nem devia tá aqui\n",
    "Permita que eu fale, não as minhas cicatrizes\n",
    "Tanta dor rouba nossa voz, sabe o que resta de nós?\n",
    "Alvos passeando por aí\n",
    "Permita que eu fale, não as minhas cicatrizes\n",
    "Se isso é sobre vivência, me resumir à sobrevivência\n",
    "É roubar o pouco de bom que vivi\n",
    "Por fim, permita que eu fale, não as minhas cicatrizes\n",
    "Achar que essas mazelas me definem é o pior dos crimes\n",
    "É dar o troféu pro nosso algoz e fazer nóis sumir\n",
    "\n",
    "Tenho sangrado demais (falei)\n",
    "Tenho chorado pra cachorro (é o Sol que invade a cela)\n",
    "Ano passado eu morri (ei!)\n",
    "Mas esse ano eu não morro\n",
    "Tenho sangrado demais (demais)\n",
    "Tenho chorado pra cachorro (mais importante que nunca)\n",
    "Ano passado eu morri (mas aê)\n",
    "Mas esse ano eu não morro\n",
    "\n",
    "Tenho sangrado demais\n",
    "Tenho chorado pra cachorro (a rua é nóis!)\n",
    "Ano passado eu morri (e aê)\n",
    "Mas esse ano eu não morro\n",
    "Tenho sangrado demais\n",
    "Tenho chorado pra cachorro\n",
    "Ano passado eu morri\n",
    "Mas esse ano eu não morro (Laboratório Fantasma)\n",
    "\n",
    "[Emicida]\n",
    "Aí, maloqueiro, aí, maloqueira\n",
    "Levanta essa cabeça\n",
    "Enxuga essas lágrimas, certo? (Você memo)\n",
    "Respira fundo e volta pro ringue (vai)\n",
    "Cê vai sair dessa prisão\n",
    "Cê vai atrás desse diploma\n",
    "Com a fúria da beleza do Sol, entendeu?\n",
    "Faz isso por nóis\n",
    "Faz essa por nóis (vai)\n",
    "Te vejo no pódio\n",
    "\n",
    "[Majur e Pabllo Vittar]\n",
    "Ano passado eu morri\n",
    "Mas esse ano eu não morro\n",
    "'''"
   ]
  },
  {
   "cell_type": "code",
   "execution_count": 31,
   "id": "d6d85729",
   "metadata": {},
   "outputs": [
    {
     "name": "stdout",
     "output_type": "stream",
     "text": [
      "['cachorro', 'cachorro', 'cachorro', 'cachorro', 'cachorro', 'cachorro', 'cachorro', 'cachorro', 'cachorro', 'cachorro', 'cachorro']\n",
      "11\n"
     ]
    }
   ],
   "source": [
    "# 1- criar regex para contar quantas vezes aparece a palavra cachorro\n",
    "padrao = r'\\bcachorro\\b'\n",
    "\n",
    "ocorrencias = re.findall(padrao, amarelo, re.IGNORECASE)\n",
    "\n",
    "print(ocorrencias)\n",
    "\n",
    "contagem = len(ocorrencias)\n",
    "\n",
    "print(contagem)\n",
    "\n"
   ]
  },
  {
   "cell_type": "code",
   "execution_count": 33,
   "id": "8ee4d57e",
   "metadata": {},
   "outputs": [
    {
     "name": "stdout",
     "output_type": "stream",
     "text": [
      "1\n"
     ]
    }
   ],
   "source": [
    "# 2- Quantas vezes aparece diploma?\n",
    "pattern = r'\\bdiploma\\b'\n",
    "\n",
    "ocorrencias = re.findall(pattern, amarelo, re.IGNORECASE)\n",
    "\n",
    "print(len(ocorrencias))"
   ]
  },
  {
   "cell_type": "code",
   "execution_count": 57,
   "id": "b71b92fe",
   "metadata": {},
   "outputs": [
    {
     "data": {
      "text/plain": [
       "['vai!', 'revide!', 'ei!', 'nóis!']"
      ]
     },
     "execution_count": 57,
     "metadata": {},
     "output_type": "execute_result"
    }
   ],
   "source": [
    "# 3 - quais sao as palavras que antecedem exclamações?\n",
    "padrao = r'\\b\\w+!'\n",
    "\n",
    "palavras_que_antecedem_interrogacao = re.findall(padrao, amarelo)\n",
    "\n",
    "palavras_que_antecedem_interrogacao"
   ]
  },
  {
   "cell_type": "code",
   "execution_count": 43,
   "id": "ad5473e8",
   "metadata": {
    "scrolled": true
   },
   "outputs": [
    {
     "data": {
      "text/plain": [
       "['sangrado',\n",
       " 'sangrado',\n",
       " 'sangrado',\n",
       " 'sangrado',\n",
       " 'sangrado',\n",
       " 'sangrado',\n",
       " 'sangrado',\n",
       " 'sangrado',\n",
       " 'sangrado',\n",
       " 'sangrado']"
      ]
     },
     "execution_count": 43,
     "metadata": {},
     "output_type": "execute_result"
    }
   ],
   "source": [
    "# 4 - crie um regex que extrai qualquer palavra cujo antecessor seja a palavra \"tenho\" e o sucessor seja a palavra \"demais\" em um texto\n",
    "\n",
    "padrao = r'tenho\\s+(\\w+)\\s+demais'\n",
    "\n",
    "palavras_entre_tenho_e_demais = re.findall(padrao, amarelo, re.IGNORECASE)\n",
    "\n",
    "palavras_entre_tenho_e_demais"
   ]
  },
  {
   "cell_type": "code",
   "execution_count": 53,
   "id": "b2ca5688",
   "metadata": {},
   "outputs": [
    {
     "name": "stdout",
     "output_type": "stream",
     "text": [
      "primeira resposta:  ['mo', 's', 'j', 'n', 'n', 'n', 'n', 'n', 'Combust', 'arrega', 'amanh', 'n', 's', 'm', 'c', 'n', 'n', 'opç', 'n', 'ch', 'n', 'n', 'n', 'n', 'raz', 'n', 'pe', 'S', 'n', 'j', 'p', 'n', 'n', 's', 'presen', 'a', 'tend', 'depress', 'apar', 'f', 'Vov', 'm', 'm', 'Dif', 'imp', 'n', 's', 'n', 'n', 'n', 'n', 's', 'n', 't', 'n', 'n', 'a', 'n', 'viv', 'sobreviv', 'n', 'trof', 'n', 'n', 'a', 'n', 'n', 'a', 'n', 'n', 'Laborat', 'A', 'a', 'cabe', 'l', 'Voc', 'C', 'pris', 'C', 'atr', 'f', 'n', 'n', 'p', 'n']\n",
      "segunda resposta:  ['moç', 'sã', 'já', 'nã', 'nã', 'nã', 'nã', 'nã', 'Combustí', 'arregaç', 'amanhã', 'nã', 'só', 'má', 'cã', 'nó', 'nã', 'opçã', 'nã', 'chã', 'nó', 'nã', 'nã', 'nã', 'razã', 'nã', 'peç', 'Só', 'nã', 'já', 'nã', 'nã', 'só', 'presenç', 'aé', 'depressã', 'fé', 'Vovó', 'mó', 'mó', 'Difí', 'impé', 'nã', 'sé', 'nã', 'nã', 'nã', 'nã', 'sã', 'nã', 'tá', 'nã', 'nó', 'aí', 'nã', 'nã', 'trofé', 'nó', 'nã', 'nã', 'nó', 'nã', 'nã', 'Laborató', 'Aí', 'aí', 'cabeç', 'lá', 'prisã', 'atrá', 'fú', 'nó', 'nó', 'pó', 'nã']\n"
     ]
    }
   ],
   "source": [
    "# 5 - crie um regex que retorne as palavras com acento, mas somente os caracteres na palavra que são anteriores ao caracter com acento\n",
    "\n",
    "padrao1 = r\"(\\w+)[\\u00C0-\\u017F]+\"\n",
    "\n",
    "palavras_sem_acentos1 = re.findall(padrao1, amarelo, re.UNICODE)\n",
    "\n",
    "print('primeira resposta: ', palavras_sem_acentos1)\n",
    "\n",
    "padrao2 = r'\\b[\\wÀ-ÿ]+[áéíóúãõç]'\n",
    "\n",
    "palavras_sem_acentos2 = re.findall(padrao2, amarelo, re.UNICODE)\n",
    "\n",
    "print('segunda resposta: ', palavras_sem_acentos2)"
   ]
  }
 ],
 "metadata": {
  "kernelspec": {
   "display_name": "Python 3 (ipykernel)",
   "language": "python",
   "name": "python3"
  },
  "language_info": {
   "codemirror_mode": {
    "name": "ipython",
    "version": 3
   },
   "file_extension": ".py",
   "mimetype": "text/x-python",
   "name": "python",
   "nbconvert_exporter": "python",
   "pygments_lexer": "ipython3",
   "version": "3.9.13"
  }
 },
 "nbformat": 4,
 "nbformat_minor": 5
}
