{
 "cells": [
  {
   "cell_type": "code",
   "execution_count": 24,
   "id": "c23b7d50",
   "metadata": {},
   "outputs": [],
   "source": [
    "class Livro():\n",
    "    def __init__(self, titulo, codigo):\n",
    "        self.titulo = titulo\n",
    "        self.codigo = codigo\n",
    "        print('Construtor criado o objeto desta classe')\n",
    "        \n",
    "    def imprimir(self):\n",
    "        print(f'O Livro {self.titulo} possui o código {self.codigo}')\n",
    "        \n",
    "    def __str__(self):\n",
    "        print(f'{self.titulo} - {self.codigo}')"
   ]
  },
  {
   "cell_type": "code",
   "execution_count": 29,
   "id": "7a380bc5",
   "metadata": {
    "scrolled": true
   },
   "outputs": [
    {
     "name": "stdout",
     "output_type": "stream",
     "text": [
      "Construtor criado o objeto desta classe\n",
      "O Livro Hobbit possui o código 122871\n"
     ]
    },
    {
     "data": {
      "text/plain": [
       "'Hobbit'"
      ]
     },
     "execution_count": 29,
     "metadata": {},
     "output_type": "execute_result"
    }
   ],
   "source": [
    "livro1 = Livro('Hobbit', 122871)\n",
    "\n",
    "livro1.imprimir()\n",
    "\n",
    "livro1.titulo"
   ]
  },
  {
   "cell_type": "code",
   "execution_count": 32,
   "id": "8de04730",
   "metadata": {},
   "outputs": [],
   "source": [
    "class Algoritmo():\n",
    "    def __init__(self, tipo_algo):\n",
    "        self.tipo = tipo_algo"
   ]
  },
  {
   "cell_type": "code",
   "execution_count": 38,
   "id": "cff9d8df",
   "metadata": {},
   "outputs": [
    {
     "name": "stdout",
     "output_type": "stream",
     "text": [
      "Random Forest\n"
     ]
    }
   ],
   "source": [
    "algo1 = Algoritmo(tipo_algo = 'Random Forest')\n",
    "\n",
    "print(algo1.tipo)"
   ]
  },
  {
   "cell_type": "code",
   "execution_count": 62,
   "id": "6f14ee06",
   "metadata": {},
   "outputs": [
    {
     "data": {
      "text/plain": [
       "98"
      ]
     },
     "execution_count": 62,
     "metadata": {},
     "output_type": "execute_result"
    }
   ],
   "source": [
    "class Estudante():\n",
    "    def __init__(self, nome, idade, nota):\n",
    "        self.nome = nome\n",
    "        self.idade = idade\n",
    "        self.nota = nota\n",
    "        \n",
    "    def info(self):\n",
    "        return f'A pessoa estudante {self.nome} está com {self.idade} anos e com a nota {self.nota}'\n",
    "        \n",
    "\n",
    "estudante1 = Estudante('Gustavo', 12, 98)\n",
    "\n",
    "estudante1.nota"
   ]
  },
  {
   "cell_type": "code",
   "execution_count": 64,
   "id": "af0284cd",
   "metadata": {},
   "outputs": [
    {
     "name": "stdout",
     "output_type": "stream",
     "text": [
      "A pessoa estudante Gustavo está com 32 anos e com a nota 98\n"
     ]
    },
    {
     "data": {
      "text/plain": [
       "32"
      ]
     },
     "execution_count": 64,
     "metadata": {},
     "output_type": "execute_result"
    }
   ],
   "source": [
    "hasattr(estudante1, \"idade\")\n",
    "\n",
    "print(estudante1.info())\n",
    "\n",
    "setattr(estudante1, \"idade\", 32)\n",
    "\n",
    "estudante1.info()\n",
    "\n",
    "getattr(estudante1, \"idade\")"
   ]
  },
  {
   "cell_type": "code",
   "execution_count": 73,
   "id": "3d2038bf",
   "metadata": {},
   "outputs": [],
   "source": [
    "class Circulo():\n",
    "    pi = 3.14\n",
    "    \n",
    "    def __init__(self, raio = 4):\n",
    "        self.raio = raio\n",
    "        \n",
    "    def area(self):\n",
    "        return Circulo.pi * (self.raio ** 2)\n",
    "    \n",
    "    def novo_raio(self, novo_raio):\n",
    "        self.raio = novo_raio\n",
    "        \n",
    "    def get_raio(self):\n",
    "        return f'O raio possui tamanho: {self.raio}'"
   ]
  },
  {
   "cell_type": "code",
   "execution_count": 78,
   "id": "a3e3ad0e",
   "metadata": {},
   "outputs": [
    {
     "name": "stdout",
     "output_type": "stream",
     "text": [
      "5024.0\n",
      "314.0\n"
     ]
    },
    {
     "data": {
      "text/plain": [
       "'O raio possui tamanho: 10'"
      ]
     },
     "execution_count": 78,
     "metadata": {},
     "output_type": "execute_result"
    }
   ],
   "source": [
    "bola_de_futebol = Circulo(40)\n",
    "print(bola_de_futebol.area())\n",
    "\n",
    "bola_de_futebol.novo_raio(10)\n",
    "print(bola_de_futebol.area())\n",
    "\n",
    "bola_de_futebol.get_raio()\n"
   ]
  },
  {
   "cell_type": "markdown",
   "id": "bc518083",
   "metadata": {},
   "source": [
    "## herança"
   ]
  },
  {
   "cell_type": "code",
   "execution_count": 6,
   "id": "fc7397fd",
   "metadata": {},
   "outputs": [
    {
     "name": "stdout",
     "output_type": "stream",
     "text": [
      "animal criado\n",
      "este é um animal\n",
      "águia está comendo\n"
     ]
    }
   ],
   "source": [
    "class Animal():\n",
    "    def __init__(self, tipo):\n",
    "        self.tipo = tipo\n",
    "        print('animal criado')\n",
    "        \n",
    "    def imprimir(self):\n",
    "        print('este é um animal')\n",
    "        \n",
    "    def comer(self):\n",
    "        print(f'{self.tipo} está comendo')\n",
    "        \n",
    "    def emitir_som(self):\n",
    "        pass\n",
    "        \n",
    "\n",
    "aguia = Animal('águia')\n",
    "\n",
    "aguia.imprimir()\n",
    "aguia.comer()"
   ]
  },
  {
   "cell_type": "code",
   "execution_count": 17,
   "id": "18c625e0",
   "metadata": {},
   "outputs": [
    {
     "name": "stdout",
     "output_type": "stream",
     "text": [
      "animal criado\n",
      "cachorro criado\n",
      "este é um animal\n",
      "Josias está comendo\n",
      "au au\n"
     ]
    }
   ],
   "source": [
    "class Cachorro(Animal):\n",
    "    def __init__(self, tipo):\n",
    "        Animal.__init__(self, tipo)\n",
    "        print('cachorro criado')\n",
    "        \n",
    "    def emitir_som(self):\n",
    "        print('au au')\n",
    "        \n",
    "cao = Cachorro('Josias')\n",
    "\n",
    "cao.imprimir()\n",
    "\n",
    "cao.comer()\n",
    "cao.emitir_som()"
   ]
  },
  {
   "cell_type": "code",
   "execution_count": 21,
   "id": "82e31025",
   "metadata": {},
   "outputs": [
    {
     "name": "stdout",
     "output_type": "stream",
     "text": [
      "animal criado\n",
      "gato criado\n",
      "miau\n",
      "Alberto está comendo\n"
     ]
    }
   ],
   "source": [
    "class Gato(Animal):\n",
    "    def __init__(self, tipo):\n",
    "        Animal.__init__(self, tipo)\n",
    "        print('gato criado')\n",
    "    \n",
    "    def emitir_som(self):\n",
    "        print('miau')\n",
    "        \n",
    "gato = Gato('Alberto')\n",
    "\n",
    "gato.emitir_som()\n",
    "\n",
    "gato.comer()"
   ]
  },
  {
   "cell_type": "markdown",
   "id": "1d7c0171",
   "metadata": {},
   "source": [
    "## Polimorfismo - é a possibilidade de ter só o método construtor na superclasse"
   ]
  },
  {
   "cell_type": "code",
   "execution_count": 22,
   "id": "4753851f",
   "metadata": {},
   "outputs": [],
   "source": [
    "#superclasse\n",
    "\n",
    "class VideoGame():\n",
    "    def __init__(self, marca, modelo):\n",
    "        self.marca = marca\n",
    "        self.modelo = modelo\n",
    "        \n",
    "    def jogar(self):\n",
    "        pass\n",
    "    \n",
    "    def divertir(self):\n",
    "        pass"
   ]
  },
  {
   "cell_type": "code",
   "execution_count": 24,
   "id": "90eaf898",
   "metadata": {},
   "outputs": [],
   "source": [
    "#sub classes\n",
    "\n",
    "class Playstation(VideoGame):\n",
    "    def jogar(self):\n",
    "        print(f'Você está jogando {self.marca} {self.modelo}')\n",
    "        \n",
    "    def divertir(self):\n",
    "        print(f'Estou me divertindo muito com {self.marca} {self.modelo}')\n",
    "        \n",
    "class Nintendo(VideoGame):\n",
    "    def jogar(self):\n",
    "        print(f'Você está jogando {self.marca} {self.modelo}')\n",
    "        \n",
    "    def divertir(self):\n",
    "        print(f'Estou me divertindo muito com {self.marca} {self.modelo}')\n",
    "\n",
    "class Xbox(VideoGame):\n",
    "    def jogar(self):\n",
    "        print(f'Você está jogando {self.marca} {self.modelo}')\n",
    "        \n",
    "    def divertir(self):\n",
    "        print(f'Estou me divertindo muito com {self.marca} {self.modelo}')\n",
    "        \n",
    "    def gamepass(self):\n",
    "        print(f'Todo mês tem jogo grátis com o GamePass no {self.marca} {self.modelo}')\n",
    "        \n"
   ]
  },
  {
   "cell_type": "code",
   "execution_count": 25,
   "id": "343a60c9",
   "metadata": {},
   "outputs": [
    {
     "name": "stdout",
     "output_type": "stream",
     "text": [
      "Você está jogando Sony PS5\n",
      "Estou me divertindo muito com Sony PS5\n",
      "-----\n",
      "Você está jogando Nintendo Gameboy\n",
      "Estou me divertindo muito com Nintendo Gameboy\n",
      "-----\n",
      "Você está jogando Microsoft GameCube\n",
      "Estou me divertindo muito com Microsoft GameCube\n",
      "Todo mês tem jogo grátis com o GamePass no Microsoft GameCube\n",
      "-----\n"
     ]
    }
   ],
   "source": [
    "lista_videogames = [Playstation('Sony', 'PS5'), Nintendo('Nintendo', 'Gameboy'), Xbox('Microsoft', 'GameCube')]\n",
    "\n",
    "for videogame in lista_videogames:\n",
    "    videogame.jogar()\n",
    "    \n",
    "    videogame.divertir()\n",
    "    \n",
    "    if isinstance(videogame, Xbox):\n",
    "        videogame.gamepass()\n",
    "        \n",
    "    print('-----')\n",
    "    \n",
    "    "
   ]
  },
  {
   "cell_type": "code",
   "execution_count": null,
   "id": "95f9bde2",
   "metadata": {},
   "outputs": [],
   "source": []
  }
 ],
 "metadata": {
  "kernelspec": {
   "display_name": "Python 3 (ipykernel)",
   "language": "python",
   "name": "python3"
  },
  "language_info": {
   "codemirror_mode": {
    "name": "ipython",
    "version": 3
   },
   "file_extension": ".py",
   "mimetype": "text/x-python",
   "name": "python",
   "nbconvert_exporter": "python",
   "pygments_lexer": "ipython3",
   "version": "3.9.13"
  }
 },
 "nbformat": 4,
 "nbformat_minor": 5
}
