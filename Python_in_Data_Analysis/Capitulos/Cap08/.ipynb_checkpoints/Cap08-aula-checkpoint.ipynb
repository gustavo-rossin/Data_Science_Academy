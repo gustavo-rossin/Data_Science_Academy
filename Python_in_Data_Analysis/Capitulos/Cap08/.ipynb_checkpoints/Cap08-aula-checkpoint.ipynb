{
 "cells": [
  {
   "cell_type": "code",
   "execution_count": null,
   "id": "91472fb3",
   "metadata": {},
   "outputs": [],
   "source": [
    "class Livro():\n",
    "    def __init__(self):\n",
    "        self.titulo = 'Harry Potter'\n",
    "        self.codigo = '123411'\n",
    "        print('Construtor para criar o objeto desta classe')\n",
    "        \n",
    "    def imprimir(self):\n",
    "        print(f'O Livro {self.titulo} possui o código {self.codigo}')\n",
    "        \n",
    "    def __str__(self):\n",
    "        print(f'{self.titulo} - {self.codigo})"
   ]
  }
 ],
 "metadata": {
  "kernelspec": {
   "display_name": "Python 3 (ipykernel)",
   "language": "python",
   "name": "python3"
  },
  "language_info": {
   "codemirror_mode": {
    "name": "ipython",
    "version": 3
   },
   "file_extension": ".py",
   "mimetype": "text/x-python",
   "name": "python",
   "nbconvert_exporter": "python",
   "pygments_lexer": "ipython3",
   "version": "3.9.13"
  }
 },
 "nbformat": 4,
 "nbformat_minor": 5
}
