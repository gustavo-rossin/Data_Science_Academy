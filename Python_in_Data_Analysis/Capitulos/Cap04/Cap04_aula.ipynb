{
 "cells": [
  {
   "cell_type": "markdown",
   "id": "57737f4b",
   "metadata": {},
   "source": [
    "# Parte 1 - operadores"
   ]
  },
  {
   "cell_type": "code",
   "execution_count": 3,
   "id": "f7afd602",
   "metadata": {},
   "outputs": [
    {
     "name": "stdout",
     "output_type": "stream",
     "text": [
      "1\n"
     ]
    }
   ],
   "source": [
    "print(10%3)"
   ]
  },
  {
   "cell_type": "code",
   "execution_count": 5,
   "id": "3d952d7e",
   "metadata": {},
   "outputs": [
    {
     "name": "stdout",
     "output_type": "stream",
     "text": [
      "float:  2.0\n",
      "int:  2\n"
     ]
    }
   ],
   "source": [
    "#divisão de numeros inteiros gera um float\n",
    "\n",
    "print('float: ', 4/2)\n",
    "print('int: ', 4//2)"
   ]
  },
  {
   "cell_type": "code",
   "execution_count": 8,
   "id": "be46d7b4",
   "metadata": {},
   "outputs": [
    {
     "data": {
      "text/plain": [
       "256"
      ]
     },
     "execution_count": 8,
     "metadata": {},
     "output_type": "execute_result"
    }
   ],
   "source": [
    "# valor ABSoluto\n",
    "abs(-8)\n",
    "\n",
    "round(2.3923891, 5)\n",
    "\n",
    "#potência\n",
    "pow(2, 8)"
   ]
  },
  {
   "cell_type": "markdown",
   "id": "425f8f91",
   "metadata": {},
   "source": [
    "# Parte 2 - variáveis"
   ]
  },
  {
   "cell_type": "code",
   "execution_count": 11,
   "id": "58913ae6",
   "metadata": {},
   "outputs": [
    {
     "name": "stdout",
     "output_type": "stream",
     "text": [
      "2 3 1\n"
     ]
    }
   ],
   "source": [
    "#declaração multipla\n",
    "\n",
    "valor1, valor2, valor3 = 1, 2, 3\n",
    "\n",
    "print(valor2, valor3, valor1)"
   ]
  },
  {
   "cell_type": "markdown",
   "id": "42e70a71",
   "metadata": {},
   "source": [
    "# Parte 3 - Strings e Indexação"
   ]
  },
  {
   "cell_type": "code",
   "execution_count": 18,
   "id": "d259744e",
   "metadata": {},
   "outputs": [
    {
     "name": "stdout",
     "output_type": "stream",
     "text": [
      "\n",
      " finalmente \n",
      " arrumei \n",
      " meu \n",
      " teclado \n",
      " agora \n",
      " é \n",
      " ANSI\n"
     ]
    }
   ],
   "source": [
    "print('\\n finalmente \\n arrumei \\n meu \\n teclado \\n agora \\n é \\n ANSI')"
   ]
  },
  {
   "cell_type": "code",
   "execution_count": 36,
   "id": "1ec5f764",
   "metadata": {},
   "outputs": [
    {
     "data": {
      "text/plain": [
       "'ISNA XrepyH odalcet'"
      ]
     },
     "execution_count": 36,
     "metadata": {},
     "output_type": "execute_result"
    }
   ],
   "source": [
    "string_indexacao = \"teclado HyperX ANSI\"\n",
    "\n",
    "string_indexacao[0]\n",
    "string_indexacao[4]\n",
    "string_indexacao[8:14]\n",
    "string_indexacao[::-1]"
   ]
  },
  {
   "cell_type": "code",
   "execution_count": 45,
   "id": "287ba647",
   "metadata": {},
   "outputs": [
    {
     "data": {
      "text/plain": [
       "False"
      ]
     },
     "execution_count": 45,
     "metadata": {},
     "output_type": "execute_result"
    }
   ],
   "source": [
    "string_indexacao.split('X')\n",
    "\n",
    "frase = 'meu vizinho jogou uma semente em seu quintal.'\n",
    "\n",
    "frase.capitalize()\n",
    "frase.count('e')\n",
    "frase.isalnum()"
   ]
  }
 ],
 "metadata": {
  "kernelspec": {
   "display_name": "Python 3 (ipykernel)",
   "language": "python",
   "name": "python3"
  },
  "language_info": {
   "codemirror_mode": {
    "name": "ipython",
    "version": 3
   },
   "file_extension": ".py",
   "mimetype": "text/x-python",
   "name": "python",
   "nbconvert_exporter": "python",
   "pygments_lexer": "ipython3",
   "version": "3.9.13"
  }
 },
 "nbformat": 4,
 "nbformat_minor": 5
}
