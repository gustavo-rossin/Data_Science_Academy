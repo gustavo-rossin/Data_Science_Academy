{
 "cells": [
  {
   "cell_type": "code",
   "execution_count": 2,
   "id": "093f5346",
   "metadata": {},
   "outputs": [
    {
     "data": {
      "text/plain": [
       "'1.22.2'"
      ]
     },
     "execution_count": 2,
     "metadata": {},
     "output_type": "execute_result"
    }
   ],
   "source": [
    "import numpy as np\n",
    "\n",
    "np.__version__"
   ]
  },
  {
   "cell_type": "code",
   "execution_count": 3,
   "id": "78a14bc3",
   "metadata": {},
   "outputs": [
    {
     "name": "stdout",
     "output_type": "stream",
     "text": [
      "[  1  20 333  14  19  78  81  93  76]\n"
     ]
    },
    {
     "data": {
      "text/plain": [
       "array([  1, 333,  76])"
      ]
     },
     "execution_count": 3,
     "metadata": {},
     "output_type": "execute_result"
    }
   ],
   "source": [
    "lista1 = [1, 20, 333, 14, 19, 78, 81, 93, 76]\n",
    "\n",
    "arr1 = np.array(lista1)\n",
    "\n",
    "print(arr1)\n",
    "\n",
    "arr1.shape\n",
    "\n",
    "indice = [0, 2, 8]\n",
    "\n",
    "arr1[indice]"
   ]
  },
  {
   "cell_type": "code",
   "execution_count": 4,
   "id": "2e486bd1",
   "metadata": {},
   "outputs": [
    {
     "data": {
      "text/plain": [
       "array([20, 14, 78, 76])"
      ]
     },
     "execution_count": 4,
     "metadata": {},
     "output_type": "execute_result"
    }
   ],
   "source": [
    "checagem_par = (arr1 % 2 == 0)\n",
    "\n",
    "checagem_par\n",
    "\n",
    "arr1[checagem_par]"
   ]
  },
  {
   "cell_type": "code",
   "execution_count": 5,
   "id": "32c76bc8",
   "metadata": {},
   "outputs": [
    {
     "data": {
      "text/plain": [
       "array([11, 20, 32, 14, 19, 78, 81, 93, 76])"
      ]
     },
     "execution_count": 5,
     "metadata": {},
     "output_type": "execute_result"
    }
   ],
   "source": [
    "arr1[0] = 11\n",
    "arr1[2] = 32\n",
    "\n",
    "arr1"
   ]
  },
  {
   "cell_type": "code",
   "execution_count": 6,
   "id": "19bc543f",
   "metadata": {},
   "outputs": [
    {
     "name": "stdout",
     "output_type": "stream",
     "text": [
      "Erro, apenas numeros\n"
     ]
    }
   ],
   "source": [
    "#arr1[0] = 'Opa, erroo'\n",
    "\n",
    "try:\n",
    "    arr1[0] = 'Opa, erroo'\n",
    "except:\n",
    "    print('Erro, apenas numeros')"
   ]
  },
  {
   "cell_type": "code",
   "execution_count": 7,
   "id": "5ae400a4",
   "metadata": {
    "scrolled": true
   },
   "outputs": [
    {
     "data": {
      "text/plain": [
       "array([    12,    156,   2184,  32760, 524160])"
      ]
     },
     "execution_count": 7,
     "metadata": {},
     "output_type": "execute_result"
    }
   ],
   "source": [
    "arr2 = np.array([12, 13, 14, 15, 16])\n",
    "\n",
    "\n",
    "\n",
    "arr2.cumsum()\n",
    "arr2.cumprod()"
   ]
  },
  {
   "cell_type": "code",
   "execution_count": 8,
   "id": "c19b1aa1",
   "metadata": {},
   "outputs": [
    {
     "data": {
      "text/plain": [
       "array([ 1,  2,  6, 24])"
      ]
     },
     "execution_count": 8,
     "metadata": {},
     "output_type": "execute_result"
    }
   ],
   "source": [
    "# calculando n fatorial a partir da função abaixo usando apenas numpy:\n",
    "\n",
    "def n_fatorial(numero):\n",
    "    if numero == 0:\n",
    "        return 1\n",
    "    else:\n",
    "        num = range(1, numero+1)\n",
    "        new_list = []\n",
    "        for numero in num:\n",
    "            new_list.append(numero)\n",
    "    \n",
    "        new_array = np.array(new_list)\n",
    "        cum_prod = np.cumprod(new_array)\n",
    "        return cum_prod\n",
    "    \n",
    "n_fatorial(4)"
   ]
  },
  {
   "cell_type": "code",
   "execution_count": 9,
   "id": "a3d49079",
   "metadata": {},
   "outputs": [
    {
     "data": {
      "text/plain": [
       "array([1, 3, 5, 7, 9])"
      ]
     },
     "execution_count": 9,
     "metadata": {},
     "output_type": "execute_result"
    }
   ],
   "source": [
    "np.arange(1, 10, 2)"
   ]
  },
  {
   "cell_type": "code",
   "execution_count": 10,
   "id": "63601ade",
   "metadata": {},
   "outputs": [
    {
     "data": {
      "text/plain": [
       "array([0., 0., 0., 0., 0., 0., 0., 0., 0., 0.])"
      ]
     },
     "execution_count": 10,
     "metadata": {},
     "output_type": "execute_result"
    }
   ],
   "source": [
    "arr4 = np.zeros(10)\n",
    "\n",
    "arr4"
   ]
  },
  {
   "cell_type": "code",
   "execution_count": 11,
   "id": "8c1e0228",
   "metadata": {},
   "outputs": [
    {
     "data": {
      "text/plain": [
       "array([[1., 0., 0.],\n",
       "       [0., 1., 0.],\n",
       "       [0., 0., 1.]])"
      ]
     },
     "execution_count": 11,
     "metadata": {},
     "output_type": "execute_result"
    }
   ],
   "source": [
    "arr5 = np.eye(3)\n",
    "\n",
    "arr5"
   ]
  },
  {
   "cell_type": "code",
   "execution_count": 12,
   "id": "8d871c53",
   "metadata": {},
   "outputs": [
    {
     "data": {
      "text/plain": [
       "array([[ 1,  0,  0,  0],\n",
       "       [ 0,  2,  0,  0],\n",
       "       [ 0,  0,  3,  0],\n",
       "       [ 0,  0,  0, 10]])"
      ]
     },
     "execution_count": 12,
     "metadata": {},
     "output_type": "execute_result"
    }
   ],
   "source": [
    "arr6 = np.diag(np.array([1, 2, 3, 10]))\n",
    "\n",
    "arr6"
   ]
  },
  {
   "cell_type": "code",
   "execution_count": 13,
   "id": "432dcd91",
   "metadata": {},
   "outputs": [
    {
     "data": {
      "text/plain": [
       "array([[ 1,  2,  3],\n",
       "       [22,  3, 10]])"
      ]
     },
     "execution_count": 13,
     "metadata": {},
     "output_type": "execute_result"
    }
   ],
   "source": [
    "arr7 = np.array([[1, 2, 3], [22, 3, 10]])\n",
    "\n",
    "arr7"
   ]
  },
  {
   "cell_type": "code",
   "execution_count": 14,
   "id": "baec58d1",
   "metadata": {},
   "outputs": [
    {
     "data": {
      "text/plain": [
       "array([[1., 1., 1.],\n",
       "       [1., 1., 1.],\n",
       "       [1., 1., 1.]])"
      ]
     },
     "execution_count": 14,
     "metadata": {},
     "output_type": "execute_result"
    }
   ],
   "source": [
    "arr8 = np.ones((3,3))\n",
    "arr8"
   ]
  },
  {
   "cell_type": "code",
   "execution_count": 15,
   "id": "d410ae4a",
   "metadata": {},
   "outputs": [
    {
     "name": "stdout",
     "output_type": "stream",
     "text": [
      "[[ 1.   2.   9. ]\n",
      " [20.  11.  98.1]\n",
      " [ 7.   8.  76. ]]\n",
      "76.0\n"
     ]
    }
   ],
   "source": [
    "listona = [[1, 2, 9], [20, 11, 98.1], [7, 8, 76]]\n",
    "\n",
    "arr9 = np.matrix(listona, dtype = float)\n",
    "\n",
    "print(arr9)\n",
    "\n",
    "print(arr9[2, 2])"
   ]
  },
  {
   "cell_type": "code",
   "execution_count": 16,
   "id": "37376cde",
   "metadata": {},
   "outputs": [
    {
     "data": {
      "text/plain": [
       "2"
      ]
     },
     "execution_count": 16,
     "metadata": {},
     "output_type": "execute_result"
    }
   ],
   "source": [
    "arr9.itemsize\n",
    "\n",
    "arr9.nbytes\n",
    "arr9.ndim"
   ]
  },
  {
   "cell_type": "code",
   "execution_count": 19,
   "id": "55236c6b",
   "metadata": {},
   "outputs": [
    {
     "name": "stdout",
     "output_type": "stream",
     "text": [
      "51.4\n"
     ]
    },
    {
     "data": {
      "text/plain": [
       "51.4"
      ]
     },
     "execution_count": 19,
     "metadata": {},
     "output_type": "execute_result"
    }
   ],
   "source": [
    "arr10 = np.array([17, 21, 39, 98, 82])\n",
    "\n",
    "print(arr10.mean())\n",
    "\n",
    "np.mean(arr10)"
   ]
  },
  {
   "cell_type": "code",
   "execution_count": 20,
   "id": "762bccd4",
   "metadata": {},
   "outputs": [
    {
     "data": {
      "text/plain": [
       "32.76949801263364"
      ]
     },
     "execution_count": 20,
     "metadata": {},
     "output_type": "execute_result"
    }
   ],
   "source": [
    "np.std(arr10)"
   ]
  },
  {
   "cell_type": "code",
   "execution_count": 25,
   "id": "64e6e5f9",
   "metadata": {},
   "outputs": [
    {
     "name": "stdout",
     "output_type": "stream",
     "text": [
      "[[ 1  2  3  5]\n",
      " [ 1  4  9 10]]\n"
     ]
    },
    {
     "data": {
      "text/plain": [
       "array([3, 9])"
      ]
     },
     "execution_count": 25,
     "metadata": {},
     "output_type": "execute_result"
    }
   ],
   "source": [
    "arr11 = np.array([[1, 2, 3, 5], [1, 4, 9, 10]])\n",
    "\n",
    "print(arr11)\n",
    "arr11[:, 2]"
   ]
  },
  {
   "cell_type": "code",
   "execution_count": null,
   "id": "309a7c68",
   "metadata": {},
   "outputs": [],
   "source": []
  }
 ],
 "metadata": {
  "kernelspec": {
   "display_name": "Python 3 (ipykernel)",
   "language": "python",
   "name": "python3"
  },
  "language_info": {
   "codemirror_mode": {
    "name": "ipython",
    "version": 3
   },
   "file_extension": ".py",
   "mimetype": "text/x-python",
   "name": "python",
   "nbconvert_exporter": "python",
   "pygments_lexer": "ipython3",
   "version": "3.9.13"
  }
 },
 "nbformat": 4,
 "nbformat_minor": 5
}
