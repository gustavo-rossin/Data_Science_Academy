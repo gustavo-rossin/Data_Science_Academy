{
 "cells": [
  {
   "cell_type": "markdown",
   "id": "2b005c71",
   "metadata": {},
   "source": [
    "### Placeholders (%s e %r)"
   ]
  },
  {
   "cell_type": "code",
   "execution_count": 3,
   "id": "4e6edb4a",
   "metadata": {},
   "outputs": [
    {
     "name": "stdout",
     "output_type": "stream",
     "text": [
      "Você pode entrar Gustavo\n",
      "19 Anos já pode entrar, Gustavo\n"
     ]
    }
   ],
   "source": [
    "nome = 'Gustavo'\n",
    "idade = 19\n",
    "\n",
    "if len(nome) > 5 and idade >= 18:\n",
    "    print(f'Você pode entrar {nome}')\n",
    "    print('%r Anos já pode entrar, %s' %(idade, nome))"
   ]
  },
  {
   "cell_type": "code",
   "execution_count": 20,
   "id": "04d625da",
   "metadata": {},
   "outputs": [
    {
     "name": "stdout",
     "output_type": "stream",
     "text": [
      "[6, 3882, 654, 690, 228, 12]\n"
     ]
    }
   ],
   "source": [
    "lista1 = [2, 3, 4, 5, 6, 8, 10, 22, 281, 3882]\n",
    "lista2 = [23, 44, 55, 654, 690, 100, 228, 12, 14, 13]\n",
    "new_list = []\n",
    "\n",
    "for num in lista1+lista2:\n",
    "    if num % 6 == 0:\n",
    "        new_list.append(num)\n",
    "        \n",
    "print(new_list)"
   ]
  },
  {
   "cell_type": "code",
   "execution_count": 22,
   "id": "f699d415",
   "metadata": {},
   "outputs": [
    {
     "name": "stdout",
     "output_type": "stream",
     "text": [
      "5472\n"
     ]
    }
   ],
   "source": [
    "soma = 0\n",
    "\n",
    "for lista in [lista1, lista2]:\n",
    "    for num in lista:\n",
    "        if num % 6 == 0:\n",
    "            soma += num\n",
    "\n",
    "print(soma)"
   ]
  },
  {
   "cell_type": "code",
   "execution_count": 26,
   "id": "594d5ee3",
   "metadata": {},
   "outputs": [
    {
     "name": "stdout",
     "output_type": "stream",
     "text": [
      "Q\n",
      "u\n",
      "e\n",
      " \n",
      "c\n",
      "o\n",
      "i\n",
      "s\n",
      "a\n",
      " \n",
      "m\n",
      "a\n",
      "i\n",
      "s\n",
      " \n",
      "l\n",
      "i\n",
      "n\n",
      "d\n",
      "a\n"
     ]
    }
   ],
   "source": [
    "string_legal = 'Quex coixsa maixs linxdax'\n",
    "\n",
    "for letra in string_legal:\n",
    "    if letra == 'x':\n",
    "        continue\n",
    "    print(letra)"
   ]
  },
  {
   "cell_type": "code",
   "execution_count": 29,
   "id": "6a0a1cce",
   "metadata": {},
   "outputs": [
    {
     "name": "stdout",
     "output_type": "stream",
     "text": [
      "E\n",
      "S\n",
      "S\n",
      "A\n",
      " \n",
      "F\n",
      "R\n",
      "A\n",
      "S\n",
      "E\n",
      " \n",
      "T\n",
      "E\n",
      "M\n",
      " \n",
      "Q\n",
      "U\n",
      "E\n",
      " \n",
      "S\n",
      "E\n",
      "R\n",
      " \n",
      "S\n",
      "P\n",
      "L\n",
      "I\n",
      "T\n",
      "T\n",
      "A\n",
      "D\n",
      "A\n",
      " \n",
      "P\n",
      "A\n",
      "R\n",
      "A\n",
      " \n",
      "F\n",
      "A\n",
      "Z\n",
      "E\n",
      "R\n",
      " \n",
      "S\n",
      "E\n",
      "N\n",
      "T\n",
      "I\n",
      "D\n",
      "O\n"
     ]
    }
   ],
   "source": [
    "palavra = 'essa frase tem que ser splittada para fazer sentido'\n",
    "\n",
    "def split_palavra(texto):\n",
    "    return texto.split(' ')\n",
    "\n",
    "split_palavra(palavra)\n",
    "\n",
    "def upper_palavra(texto):\n",
    "    texto = texto.upper()\n",
    "    for letra in texto:\n",
    "        print(letra)\n",
    "\n",
    "upper_palavra(palavra)"
   ]
  },
  {
   "cell_type": "code",
   "execution_count": 30,
   "id": "cbf7425b",
   "metadata": {},
   "outputs": [
    {
     "data": {
      "text/plain": [
       "25"
      ]
     },
     "execution_count": 30,
     "metadata": {},
     "output_type": "execute_result"
    }
   ],
   "source": [
    "potencia = lambda num, elevado: num ** elevado\n",
    "\n",
    "potencia(5,2)"
   ]
  },
  {
   "cell_type": "code",
   "execution_count": 31,
   "id": "9bdb92bd",
   "metadata": {},
   "outputs": [
    {
     "data": {
      "text/plain": [
       "'alyttáS'"
      ]
     },
     "execution_count": 31,
     "metadata": {},
     "output_type": "execute_result"
    }
   ],
   "source": [
    "reverso = lambda letra: letra[::-1]\n",
    "\n",
    "reverso('Sáttyla')"
   ]
  },
  {
   "cell_type": "code",
   "execution_count": 38,
   "id": "0c9513ba",
   "metadata": {},
   "outputs": [
    {
     "data": {
      "text/plain": [
       "['D', 'r', 'a', 'g']"
      ]
     },
     "execution_count": 38,
     "metadata": {},
     "output_type": "execute_result"
    }
   ],
   "source": [
    "word = 'Dragonite' \n",
    "\n",
    "[letter for letter in word if letter not in ['o', 'n', 'i', 't', 'e']]"
   ]
  },
  {
   "cell_type": "code",
   "execution_count": 43,
   "id": "86e112e0",
   "metadata": {},
   "outputs": [
    {
     "name": "stdout",
     "output_type": "stream",
     "text": [
      "dict_items([('Gustavo', 100), ('Pedro', 22), ('Sebastião', 66), ('Jaqueline', 89), ('Stéphanie', 92), ('Joaquim', 50)])\n",
      "{'Gustavo': 'Aprovado', 'Pedro': 'Reprovado', 'Sebastião': 'Aprovado', 'Jaqueline': 'Aprovado', 'Stéphanie': 'Aprovado', 'Joaquim': 'Reprovado'}\n"
     ]
    }
   ],
   "source": [
    "notas = {\n",
    "    'Gustavo': 100,\n",
    "    'Pedro': 22,\n",
    "    'Sebastião': 66,\n",
    "    'Jaqueline': 89,\n",
    "    'Stéphanie': 92,\n",
    "    'Joaquim': 50,\n",
    "}\n",
    "\n",
    "print(notas.items())\n",
    "\n",
    "aprovado_reprovado = {k:('Aprovado' if v > 60 else 'Reprovado') for (k,v) in notas.items()}\n",
    "\n",
    "print(aprovado_reprovado)"
   ]
  }
 ],
 "metadata": {
  "kernelspec": {
   "display_name": "Python 3 (ipykernel)",
   "language": "python",
   "name": "python3"
  },
  "language_info": {
   "codemirror_mode": {
    "name": "ipython",
    "version": 3
   },
   "file_extension": ".py",
   "mimetype": "text/x-python",
   "name": "python",
   "nbconvert_exporter": "python",
   "pygments_lexer": "ipython3",
   "version": "3.9.13"
  }
 },
 "nbformat": 4,
 "nbformat_minor": 5
}
