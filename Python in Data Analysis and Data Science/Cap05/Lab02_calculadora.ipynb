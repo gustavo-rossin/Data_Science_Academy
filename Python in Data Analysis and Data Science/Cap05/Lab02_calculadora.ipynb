{
 "cells": [
  {
   "cell_type": "code",
   "execution_count": 30,
   "id": "9d24cf57",
   "metadata": {},
   "outputs": [
    {
     "name": "stdout",
     "output_type": "stream",
     "text": [
      "\n",
      "Digite o número para realizar a função desejada:\n",
      "1- Soma\n",
      "2- Subtração\n",
      "3- Multiplicação\n",
      "4- Divisão\n",
      "5- Potência\n",
      "Digite a opção 1, 2, 3, 4 ou 5: 5\n",
      "Primeiro dígito: 1000\n",
      "Segundo dígito: 0\n",
      "\n",
      "      1000 ** 0 = 1\n",
      "     \n"
     ]
    }
   ],
   "source": [
    "valor_inputado = int(input('''\n",
    "Digite o número para realizar a função desejada:\n",
    "1- Soma\n",
    "2- Subtração\n",
    "3- Multiplicação\n",
    "4- Divisão\n",
    "5- Potência\n",
    "Digite a opção 1, 2, 3, 4 ou 5: '''))\n",
    "\n",
    "valores = [1, 2, 3, 4, 5]\n",
    "\n",
    "def calculadora(num1, num2, operador):\n",
    "    if operador == '+':\n",
    "        return num1+num2\n",
    "    elif operador == '-':\n",
    "        return num1-num2\n",
    "    elif operador == '/':\n",
    "        if num2 == 0:\n",
    "            return 'Não é possível dividir por zero.'\n",
    "        else:\n",
    "            return num1/num2\n",
    "    elif operador == '*':\n",
    "        return num1*num2\n",
    "    elif operador == '**':\n",
    "        if num2 == 0:\n",
    "            return 1\n",
    "        else:\n",
    "            return num1**num2\n",
    "    else:\n",
    "        return('Não foi possível calcular.')\n",
    "\n",
    "if valor_inputado not in valores:\n",
    "    print('Função não encontrada. Digite novamente')\n",
    "    \n",
    "numero1 = int(input('Primeiro dígito: '))\n",
    "numero2 = int(input('Segundo dígito: '))\n",
    "\n",
    "if valor_inputado == 1:\n",
    "     print(f'''\n",
    "      {numero1} + {numero2} = {calculadora(numero1, numero2, '+')}\n",
    "     ''')\n",
    "elif valor_inputado == 2:\n",
    "     print(f'''\n",
    "      {numero1} - {numero2} = {calculadora(numero1, numero2, '-')}\n",
    "     ''')\n",
    "elif valor_inputado == 3:\n",
    "     print(f'''\n",
    "      {numero1} * {numero2} = {calculadora(numero1, numero2, '*')}\n",
    "     ''')\n",
    "elif valor_inputado == 4:\n",
    "    if numero2 == 0:\n",
    "        print(calculadora(numero1, numero2, '/'))\n",
    "    else:\n",
    "        print(f'''\n",
    "              {numero1} / {numero2} = {calculadora(numero1, numero2, '/')}\n",
    "             ''')\n",
    "elif valor_inputado == 5:\n",
    "     print(f'''\n",
    "      {numero1} ** {numero2} = {calculadora(numero1, numero2, '**')}\n",
    "     ''')   \n",
    "    "
   ]
  },
  {
   "cell_type": "code",
   "execution_count": null,
   "id": "98ac3b3d",
   "metadata": {},
   "outputs": [],
   "source": []
  }
 ],
 "metadata": {
  "kernelspec": {
   "display_name": "Python 3 (ipykernel)",
   "language": "python",
   "name": "python3"
  },
  "language_info": {
   "codemirror_mode": {
    "name": "ipython",
    "version": 3
   },
   "file_extension": ".py",
   "mimetype": "text/x-python",
   "name": "python",
   "nbconvert_exporter": "python",
   "pygments_lexer": "ipython3",
   "version": "3.9.13"
  }
 },
 "nbformat": 4,
 "nbformat_minor": 5
}
