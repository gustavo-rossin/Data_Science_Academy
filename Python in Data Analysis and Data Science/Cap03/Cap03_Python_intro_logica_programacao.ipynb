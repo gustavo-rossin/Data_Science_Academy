{
 "cells": [
  {
   "cell_type": "markdown",
   "id": "f90ca9f2",
   "metadata": {},
   "source": [
    "# Cap 03"
   ]
  },
  {
   "cell_type": "code",
   "execution_count": 1,
   "id": "c359926c",
   "metadata": {},
   "outputs": [
    {
     "name": "stdout",
     "output_type": "stream",
     "text": [
      "Qual a altura do paralelogramo? 15\n",
      "Qual a base do paralelogramo? 2\n",
      "30.0\n"
     ]
    }
   ],
   "source": [
    "altura = float(input(\"Qual a altura do paralelogramo? \"))\n",
    "base = float(input(\"Qual a base do paralelogramo? \"))\n",
    "\n",
    "area = base * altura\n",
    "\n",
    "print(area)"
   ]
  },
  {
   "cell_type": "code",
   "execution_count": 11,
   "id": "b04f16cd",
   "metadata": {},
   "outputs": [
    {
     "name": "stdout",
     "output_type": "stream",
     "text": [
      "qual operador? /\n",
      "qual o primeiro número? 10\n",
      "qual o segundo número? 0\n",
      "Não é possível realizar esse cálculo. Tente novamente.\n"
     ]
    }
   ],
   "source": [
    "operador = input('qual operador? ')\n",
    "primeiro_numero = float(input(\"qual o primeiro número? \"))\n",
    "segundo_numero = float(input(\"qual o segundo número? \"))\n",
    "\n",
    "if operador == '+':\n",
    "    conta = primeiro_numero + segundo_numero\n",
    "    print(conta)\n",
    "elif operador == '/' and segundo_numero != 0:\n",
    "    conta = primeiro_numero / segundo_numero\n",
    "    print(conta)\n",
    "elif operador == '-':\n",
    "    conta = primeiro_numero - segundo_numero\n",
    "    print(conta)\n",
    "elif operador == '*':\n",
    "    conta = primeiro_numero * segundo_numero\n",
    "    print(conta)\n",
    "else:\n",
    "    print('Não é possível realizar esse cálculo. Tente novamente.')"
   ]
  },
  {
   "cell_type": "code",
   "execution_count": 10,
   "id": "1f7f48b4",
   "metadata": {},
   "outputs": [
    {
     "name": "stdout",
     "output_type": "stream",
     "text": [
      "Digite a expressão matemática: 222\n",
      "222\n"
     ]
    }
   ],
   "source": [
    "#usar eval para o PYTHON consegue identificar a expressao\n",
    "\n",
    "expressao = input('Digite a expressão matemática: ')\n",
    "\n",
    "print(eval(expressao))"
   ]
  },
  {
   "cell_type": "markdown",
   "id": "07372d60",
   "metadata": {},
   "source": [
    "### Bubble Sort"
   ]
  },
  {
   "cell_type": "code",
   "execution_count": 24,
   "id": "bcb436fd",
   "metadata": {},
   "outputs": [
    {
     "name": "stdout",
     "output_type": "stream",
     "text": [
      "10\n",
      "lista aleatoria : [191, 100, 26, 19, 157, 172, 117, 195, 74, 77]\n",
      "None\n",
      "método sorted():  [19, 26, 74, 77, 100, 117, 157, 172, 191, 195]\n"
     ]
    }
   ],
   "source": [
    "import random\n",
    "\n",
    "lista = random.sample((range(1,200)), 10)\n",
    "\n",
    "print(len(lista))\n",
    "print('lista aleatoria :', lista)\n",
    "\n",
    "print(lista.sort())\n",
    "print('método sorted(): ', sorted(lista))"
   ]
  }
 ],
 "metadata": {
  "kernelspec": {
   "display_name": "Python 3 (ipykernel)",
   "language": "python",
   "name": "python3"
  },
  "language_info": {
   "codemirror_mode": {
    "name": "ipython",
    "version": 3
   },
   "file_extension": ".py",
   "mimetype": "text/x-python",
   "name": "python",
   "nbconvert_exporter": "python",
   "pygments_lexer": "ipython3",
   "version": "3.9.13"
  }
 },
 "nbformat": 4,
 "nbformat_minor": 5
}
